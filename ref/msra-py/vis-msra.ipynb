{
 "cells": [
  {
   "cell_type": "markdown",
   "metadata": {},
   "source": [
    "# Load MSRA data(depth image) and show keypoint annotations"
   ]
  },
  {
   "cell_type": "code",
   "execution_count": 1,
   "metadata": {},
   "outputs": [],
   "source": [
    "import matplotlib as plt\n",
    "import msra_data\n",
    "import open3d as o3\n",
    "import numpy as np\n",
    "import matplotlib.pyplot as plt\n",
    "\n",
    "plt.ion()   # interactive mode"
   ]
  },
  {
   "cell_type": "markdown",
   "metadata": {},
   "source": [
    "## 1. Open3d examples"
   ]
  },
  {
   "cell_type": "code",
   "execution_count": 2,
   "metadata": {},
   "outputs": [
    {
     "name": "stdout",
     "output_type": "stream",
     "text": [
      "xyz\n",
      "[[-3.         -3.          0.17846472]\n",
      " [-2.985      -3.          0.17440115]\n",
      " [-2.97       -3.          0.17063709]\n",
      " ...\n",
      " [ 2.97        3.          0.17063709]\n",
      " [ 2.985       3.          0.17440115]\n",
      " [ 3.          3.          0.17846472]]\n"
     ]
    }
   ],
   "source": [
    "# generate some neat n times 3 matrix using a variant of sync function\n",
    "x = np.linspace(-3, 3, 401)\n",
    "mesh_x, mesh_y = np.meshgrid(x,x)\n",
    "z = np.sinc((np.power(mesh_x,2)+np.power(mesh_y,2)))\n",
    "z_norm = (z-z.min())/(z.max()-z.min())\n",
    "xyz = np.zeros((np.size(mesh_x),3))\n",
    "xyz[:,0] = np.reshape(mesh_x,-1)\n",
    "xyz[:,1] = np.reshape(mesh_y,-1)\n",
    "xyz[:,2] = np.reshape(z_norm,-1)\n",
    "print('xyz')\n",
    "print(xyz)"
   ]
  },
  {
   "cell_type": "code",
   "execution_count": 3,
   "metadata": {},
   "outputs": [],
   "source": [
    "# Draw point cloud\n",
    "# Pass xyz to Open3D.PointCloud and visualize\n",
    "pcd = o3.PointCloud()\n",
    "pcd.points = o3.Vector3dVector(xyz)\n",
    "o3.draw_geometries([pcd])"
   ]
  },
  {
   "cell_type": "code",
   "execution_count": 5,
   "metadata": {},
   "outputs": [],
   "source": [
    "# Draw Image\n",
    "img = o3.Image((z_norm*255).astype(np.uint8))\n",
    "o3.draw_geometries([img])"
   ]
  },
  {
   "cell_type": "code",
   "execution_count": 4,
   "metadata": {},
   "outputs": [
    {
     "name": "stdout",
     "output_type": "stream",
     "text": [
      "Let's draw some primitives\n",
      "We draw a few primitives using collection.\n",
      "We draw a few primitives using + operator of mesh.\n",
      "Let's draw a cubic that consists of 8 points and 12 lines\n"
     ]
    }
   ],
   "source": [
    "# Draw mesh etc\n",
    "def mydraw():\n",
    "\n",
    "    print(\"Let\\'s draw some primitives\")\n",
    "    mesh_sphere = o3.create_mesh_sphere(radius = 1.0)\n",
    "    mesh_sphere.compute_vertex_normals()\n",
    "    mesh_sphere.paint_uniform_color([0.1, 0.1, 0.7])\n",
    "    mesh_cylinder = o3.create_mesh_cylinder(radius = 0.3, height = 4.0)\n",
    "    mesh_cylinder.compute_vertex_normals()\n",
    "    mesh_cylinder.paint_uniform_color([0.1, 0.9, 0.1])\n",
    "    mesh_frame = o3.create_mesh_coordinate_frame(size = 0.6, origin = [-2, -2, -2])\n",
    "\n",
    "    print(\"We draw a few primitives using collection.\")\n",
    "    o3.draw_geometries([mesh_sphere, mesh_cylinder, mesh_frame])\n",
    "\n",
    "    print(\"We draw a few primitives using + operator of mesh.\")\n",
    "    o3.draw_geometries([mesh_sphere + mesh_cylinder + mesh_frame])\n",
    "\n",
    "    print(\"Let\\'s draw a cubic that consists of 8 points and 12 lines\")\n",
    "    points = [[0,0,0],[1,0,0],[0,1,0],[1,1,0],\n",
    "              [0,0,1],[1,0,1],[0,1,1],[1,1,1]]\n",
    "    lines = [[0,1],[0,2],[1,3],[2,3],\n",
    "             [4,5],[4,6],[5,7],[6,7],\n",
    "             [0,4],[1,5],[2,6],[3,7]]\n",
    "    colors = [[1, 0, 0] for i in range(len(lines))]\n",
    "    line_set = o3.LineSet()\n",
    "    line_set.points = o3.Vector3dVector(points)\n",
    "    line_set.lines = o3.Vector2iVector(lines)\n",
    "    line_set.colors = o3.Vector3dVector(colors)\n",
    "    o3.draw_geometries([line_set])\n",
    "    \n",
    "mydraw()"
   ]
  },
  {
   "cell_type": "markdown",
   "metadata": {},
   "source": [
    "## 2. View MSRA training data"
   ]
  },
  {
   "cell_type": "code",
   "execution_count": 2,
   "metadata": {},
   "outputs": [],
   "source": [
    "def show_cloud(points):\n",
    "    pcd = o3.PointCloud()\n",
    "    pcd.points = o3.Vector3dVector(points)\n",
    "    o3.draw_geometries([pcd])\n",
    "\n",
    "    \n",
    "def show_depth_image(img):\n",
    "    '''Show depth image with Open3D'''\n",
    "    img1 = img.copy()\n",
    "    d_min = np.min(img1)\n",
    "    d_max = np.max(img1)\n",
    "    img1[img1 == d_max] = d_min  # Set largest value to min(since background depth is largest)\n",
    "    d_max = np.max(img1)\n",
    "\n",
    "    img_norm = (img1 - d_min) / (d_max - d_min) * 255\n",
    "    img2 = o3.Image(img_norm.astype(np.uint8))\n",
    "    o3.draw_geometries([img2])\n",
    "\n",
    "    \n",
    "def show_keypoints(points):\n",
    "    spheres = []\n",
    "    num = points.shape[0]\n",
    "    for i in range(num):\n",
    "        ms = o3.create_mesh_sphere(radius = 1.0)\n",
    "        ms.compute_vertex_normals()\n",
    "        ms.paint_uniform_color([0.1, 0.1, 0.7])\n",
    "        transform_vertices = o3.Vector3dVector(np.asarray(ms.vertices) + points[i]) # ??\n",
    "        ms.vertices = transform_vertices\n",
    "        spheres.append(ms)\n",
    "    o3.draw_geometries(spheres)\n",
    "\n",
    "    \n",
    "def show_cloud_keypoints(cloud, points):\n",
    "    points = points.copy()\n",
    "    objects = []\n",
    "    \n",
    "    pcd = o3.PointCloud()\n",
    "    pcd.points = o3.Vector3dVector(cloud)\n",
    "    \n",
    "    objects.append(pcd)\n",
    "\n",
    "    num = points.shape[0]\n",
    "    for i in range(num):\n",
    "        ms = o3.create_mesh_sphere(radius = 3.0)\n",
    "        ms.compute_vertex_normals()\n",
    "        ms.paint_uniform_color([0.1, 0.1, 0.1])\n",
    "        transform_vertices = o3.Vector3dVector(np.asarray(ms.vertices) + points[i])\n",
    "        ms.vertices = transform_vertices\n",
    "        objects.append(ms)\n",
    "    \n",
    "    o3.draw_geometries(objects)\n",
    "\n",
    "    \n",
    "def show_cloud_keypoints1(cloud, points):\n",
    "    pcd = o3.PointCloud()\n",
    "    pcd.points = o3.Vector3dVector(cloud)\n",
    "    \n",
    "    pcd1 = o3.PointCloud()\n",
    "    pcd1.points = o3.Vector3dVector(points)\n",
    "    pcd1.paint_uniform_color([0.0, 1.0, 0.0])\n",
    "    \n",
    "    o3.draw_geometries([pcd, pcd1])\n",
    "\n",
    "    \n",
    "def show_landmarks(image, landmarks, norm_image=True):\n",
    "    \"\"\"Show image with landmarks\"\"\"\n",
    "    img = image.copy()\n",
    "    if norm_image:\n",
    "        maxv = img.max()\n",
    "        minv = img.min()\n",
    "    \n",
    "    plt.imshow(image)\n",
    "    plt.scatter(landmarks[:, 0], landmarks[:, 1], s=10, marker='.', c='r')\n",
    "    plt.pause(0.001)  # pause a bit so that plots are updated\n",
    " \n",
    "    \n",
    "def better_visulaization_depth_image(img):\n",
    "    img1 = img.copy()\n",
    "    d_min = np.min(img1)\n",
    "    d_max = np.max(img1)\n",
    "    \n",
    "    # move background pixel values closer to true/better largest depth value\n",
    "    img1[img1 == d_max] = d_min\n",
    "    d_max = np.max(img1)\n",
    "    img1[img1 == d_min] = d_max\n",
    "    \n",
    "    return img1\n",
    "\n",
    "\n",
    "def build_spheres(points, colors, radius=1.0):\n",
    "    points = points.copy()\n",
    "    spheres = []\n",
    "    num = points.shape[0]\n",
    "    for i in range(num):\n",
    "        ms = o3.create_mesh_sphere(radius)\n",
    "        ms.compute_vertex_normals()\n",
    "        ms.paint_uniform_color(colors[i])\n",
    "        transform_vertices = np.asarray(ms.vertices) + points[i] # Bug exist here!!?\n",
    "        ms.vertices = o3.Vector3dVector(transform_vertices)\n",
    "        spheres.append(ms)\n",
    "    return spheres\n",
    "        \n",
    "\n",
    "def build_msra_joints_geo(joints_3d):\n",
    "    '''\n",
    "    joints_3d: (21, 3)\n",
    "    \n",
    "    --1(wrist)\n",
    "    --2(index_mcp), 3(index_pip), 4(index_dip), 5(index_tip)\n",
    "    --6(middle_mcp), 7(middle_pip), 8(middle_dip), 9(middle_tip)\n",
    "    --10(ring_mcp), 11(ring_pip), 12(ring_dip), 13(ring_tip)\n",
    "    --14(little_mcp), 15(little_pip), 16(little_dip), 17(little_tip)\n",
    "    --18(thumb_mcp), 19(thumb_pip), 20(thumb_dip), 21(thumb_tip)\n",
    "    '''\n",
    "    lines = [[1, 18], [18, 19], [19, 20], [20, 21],\n",
    "             [1, 2], [2, 3], [3, 4], [4, 5],\n",
    "             [1, 6], [6, 7], [7, 8], [9, 9],\n",
    "             [1, 10], [10, 11], [11, 12], [12, 13],\n",
    "             [1, 14], [14, 15], [15, 16], [16, 17]]\n",
    "    for l in lines:\n",
    "        l[0] -= 1\n",
    "        l[1] -= 1\n",
    "    \n",
    "    line_colors = [[255/255,153/255,153/255], [255/255,102/255,102/255], [255/255,51/255,51/255], [255/255,0/255,0/255],\n",
    "                   [153/255,255/255,153/255], [102/255,255/255,102/255], [51/255,255/255,51/255], [0/255,255/255,0/255],\n",
    "                   [255/255,204/255,153/255], [255/255,178/255,102/255], [255/255,153/255,51/255], [255/255,128/255,0/255],\n",
    "                   [153/255,204/255,255/255], [102/255,178/255,255/255], [51/255,153/255,255/255], [0/255,128/255,255/255],\n",
    "                   [255/255,153/255,255/255], [255/255,102/255,255/255], [255/255,51/255,255/255], [255/255,0/255,255/255]\n",
    "                  ]\n",
    "    \n",
    "    point_colors = [[230/255, 230/255, 0/255],\n",
    "                    [153/255, 255/25, 153/255], [102/255, 255/255, 102/255], [51/255, 255/255, 51/255], [0/255, 255/255, 0/255],\n",
    "                    [255/255, 204/255, 153/255], [255/255, 178/255, 102/255], [255/255, 153/255, 51/255], [255/255, 128/255, 0/255],\n",
    "                    [153/255, 204/255, 255/255], [102/255, 178/255, 255/255], [51/255, 153/255, 255/255], [0/255, 128/255, 255/255],\n",
    "                    [255/255, 153/255, 255/255], [255/255, 102/255, 255/255], [255/255, 51/255, 255/255], [255/255, 0/255, 255/255],\n",
    "                    [255/255, 153/255, 153/255], [255/255, 102/255, 102/255], [255/255, 51/255, 51/255], [255/255, 0/255, 0/255]\n",
    "                   ]\n",
    "    \n",
    "    joint_3d = joints_3d.copy() # Bug, if do not copy, there will be shift\n",
    "\n",
    "    \n",
    "    line_set = o3.LineSet()\n",
    "    line_set.points = o3.Vector3dVector(joints_3d)\n",
    "    line_set.lines = o3.Vector2iVector(lines)\n",
    "    line_set.colors = o3.Vector3dVector(line_colors)\n",
    "\n",
    "        \n",
    "    joints = build_spheres(joint_3d, point_colors, 3.0)\n",
    "    \n",
    "    #return joints\n",
    "    return [line_set] + joints\n",
    "\n",
    "\n",
    "def show_cloud_keypoints_better(cloud, points):    \n",
    "    pcd = o3.PointCloud()\n",
    "    pcd.points = o3.Vector3dVector(cloud)\n",
    "    \n",
    "    joints = build_msra_joints_geo(points)\n",
    "    \n",
    "    o3.draw_geometries([pcd] + joints)"
   ]
  },
  {
   "cell_type": "code",
   "execution_count": 97,
   "metadata": {},
   "outputs": [
    {
     "name": "stdout",
     "output_type": "stream",
     "text": [
      "training data loading...\n",
      "#train_size: 67893\n",
      "#test_size: 8498\n",
      "db_type: train\n",
      "#ref_pt_str: 67893\n",
      "file_id: 67893\n",
      "frame_id: 67893\n",
      "joint_world.shape: (67893, 21, 3)\n"
     ]
    }
   ],
   "source": [
    "# Load training data\n",
    "data_t = msra_data.load_data('train')\n",
    "#data = msra_data.load_data('test')\n",
    "\n",
    "joint_world_t, ref_pt_t, names_t = data_t\n",
    "print('joint_world.shape: {}'.format(joint_world_t.shape))"
   ]
  },
  {
   "cell_type": "code",
   "execution_count": 106,
   "metadata": {},
   "outputs": [
    {
     "name": "stdout",
     "output_type": "stream",
     "text": [
      "depth_name:  /home/maiqi/yalong/dataset/cvpr15_MSRAHandGestureDB/P0/Y/000001_depth.bin\n",
      "img.shape: (240, 320)\n"
     ]
    },
    {
     "data": {
      "image/png": "[encoded data removed]",
      "text/plain": [
       "<Figure size 432x288 with 1 Axes>"
      ]
     },
     "metadata": {
      "needs_background": "light"
     },
     "output_type": "display_data"
    }
   ],
   "source": [
    "# Show landmarks\n",
    "fid_t = 8000\n",
    "\n",
    "# Get depth image\n",
    "img_name_t = names_t[fid_t]\n",
    "print('depth_name: ', img_name_t)\n",
    "\n",
    "img_t = msra_data.load_depthmap(img_name_t)\n",
    "print('img.shape: {}'.format(img_t.shape))\n",
    "\n",
    "# Get landmarks\n",
    "joints_3d_t = joint_world_t[fid_t].copy()\n",
    "\n",
    "# For better visualization of depth image\n",
    "img1_t = better_visulaization_depth_image(img_t)\n",
    "\n",
    "# Convert depth image to 3d points cloud\n",
    "depth_cloud_t = msra_data.depthmap2cloud(img1_t)\n",
    "\n",
    "\n",
    "#show_cloud_keypoints(depth_cloud_t.reshape(-1, 3), joints_3d_t)\n",
    "show_cloud_keypoints_better(depth_cloud_t.reshape(-1, 3), joints_3d_t)\n",
    "\n",
    "\n",
    "# Show reference point\n",
    "#show_cloud_keypoints(depth_cloud_t.reshape(-1, 3), ref_pt_t[fid_t].reshape(1, 3))\n",
    "\n",
    "# Show 2d joints with depth image\n",
    "joints_2d_t = msra_data.cloud2pixels(joints_3d_t)\n",
    "show_landmarks(img1_t, joints_2d_t)"
   ]
  },
  {
   "cell_type": "markdown",
   "metadata": {},
   "source": [
    "## 3. Show test result"
   ]
  },
  {
   "cell_type": "code",
   "execution_count": 3,
   "metadata": {},
   "outputs": [
    {
     "name": "stdout",
     "output_type": "stream",
     "text": [
      "testing data loading...\n",
      "#train_size: 67893\n",
      "#test_size: 8498\n",
      "db_type: test\n",
      "#ref_pt_str: 8498\n",
      "file_id: 8498\n",
      "frame_id: 8498\n",
      "joint_world.shape: (8498, 21, 3)\n"
     ]
    }
   ],
   "source": [
    "# Load test data\n",
    "data = msra_data.load_data('test')\n",
    "\n",
    "joint_world, ref_pt, names = data\n",
    "print('joint_world.shape: {}'.format(joint_world.shape))"
   ]
  },
  {
   "cell_type": "code",
   "execution_count": 4,
   "metadata": {},
   "outputs": [
    {
     "name": "stdout",
     "output_type": "stream",
     "text": [
      "res_2d.shape: (8498, 21, 3)\n",
      "res_2d.shape: (8498, 21, 3)\n"
     ]
    }
   ],
   "source": [
    "# Load test result\n",
    "#res_2d = np.loadtxt('./result.txt')\n",
    "#res_3d = np.loadtxt('./result_world.txt')\n",
    "\n",
    "res_2d = np.loadtxt('./au_result_s3_ep13.txt')\n",
    "res_3d = np.loadtxt('./au_result_world_s3_ep13.txt')\n",
    "\n",
    "res_2d = res_2d.reshape(-1, 21, 3)\n",
    "res_3d = res_3d.reshape(-1, 21, 3)\n",
    "print('res_2d.shape: {}'.format(res_2d.shape))\n",
    "print('res_2d.shape: {}'.format(res_3d.shape))\n",
    "\n",
    "\n",
    "assert(res_2d.shape[0] == joint_world.shape[0])"
   ]
  },
  {
   "cell_type": "code",
   "execution_count": 6,
   "metadata": {},
   "outputs": [
    {
     "name": "stdout",
     "output_type": "stream",
     "text": [
      "depth_img_name:  /home/maiqi/yalong/dataset/cvpr15_MSRAHandGestureDB/P3/5/000132_depth.bin\n",
      "img.shape: (240, 320)\n"
     ]
    },
    {
     "data": {
      "image/png": "[encoded data removed]",
      "text/plain": [
       "<Figure size 432x288 with 1 Axes>"
      ]
     },
     "metadata": {
      "needs_background": "light"
     },
     "output_type": "display_data"
    }
   ],
   "source": [
    "# Show 3d hand point cloud and estimated joints\n",
    "fid = 2132\n",
    "\n",
    "# Load depth image, joint_2d, joint_3d, reference point\n",
    "img_name = names[fid]\n",
    "joints_2d = res_2d[fid].copy()\n",
    "joints_3d = res_3d[fid].copy()\n",
    "rp = ref_pt[fid].copy().reshape(1, 3)\n",
    "\n",
    "# depth image\n",
    "img = msra_data.load_depthmap(img_name)\n",
    "img = better_visulaization_depth_image(img)\n",
    "\n",
    "# 3d cloud\n",
    "depth_cloud = msra_data.depthmap2cloud(img).reshape(-1, 3)\n",
    "#show_cloud(depth_cloud.reshape(-1, 3))\n",
    "\n",
    "\n",
    "print('depth_img_name: ', img_name)\n",
    "print('img.shape: {}'.format(img.shape))\n",
    "\n",
    "# Show\n",
    "#show_cloud_keypoints(depth_cloud, rp)\n",
    "\n",
    "#show_cloud_keypoints(depth_cloud, joints_3d)\n",
    "show_cloud_keypoints_better(depth_cloud, joints_3d)\n",
    "\n",
    "\n",
    "show_landmarks(img, joints_2d)"
   ]
  },
  {
   "cell_type": "markdown",
   "metadata": {},
   "source": [
    "## 4. Show author's direct result"
   ]
  },
  {
   "cell_type": "code",
   "execution_count": 111,
   "metadata": {},
   "outputs": [
    {
     "name": "stdout",
     "output_type": "stream",
     "text": [
      "au_res_2d.shape: (76391, 21, 3)\n",
      "aU_res_2d.shape: (76391, 21, 3)\n",
      "train + test:  76391\n"
     ]
    }
   ],
   "source": [
    "# Note, this result contains all samples result(all folders)\n",
    "# Load author's test result\n",
    "au_res_2d = np.loadtxt('./author_result_pixel_all.txt')\n",
    "au_res_3d = np.loadtxt('./author_result_world_all.txt')\n",
    "\n",
    "au_res_2d = au_res_2d.reshape(-1, 21, 3)\n",
    "au_res_3d = au_res_3d.reshape(-1, 21, 3)\n",
    "print('au_res_2d.shape: {}'.format(au_res_2d.shape))\n",
    "print('aU_res_2d.shape: {}'.format(au_res_3d.shape))\n",
    "\n",
    "print('train + test: ', msra_data.msra_data_config['train_size'] + msra_data.msra_data_config['test_size'])"
   ]
  },
  {
   "cell_type": "code",
   "execution_count": 120,
   "metadata": {},
   "outputs": [
    {
     "name": "stdout",
     "output_type": "stream",
     "text": [
      "depth_img_name:  /home/maiqi/yalong/dataset/cvpr15_MSRAHandGestureDB/P0/1/000444_depth.bin\n",
      "img.shape: (240, 320)\n"
     ]
    },
    {
     "data": {
      "image/png": "[encoded data removed]",
      "text/plain": [
       "<Figure size 432x288 with 1 Axes>"
      ]
     },
     "metadata": {
      "needs_background": "light"
     },
     "output_type": "display_data"
    }
   ],
   "source": [
    "# Current test_model = 3\n",
    "# And train and test datasets only contain parts of all samples(because leave-one-subject-out cross-validation)\n",
    "# So, we show some front samples in training datasets(e.g less than 500*3?)\n",
    "\n",
    "\n",
    "# Show 3d hand point cloud and estimated joints\n",
    "fid = 444\n",
    "\n",
    "# Load depth image, joint_2d, joint_3d, reference point\n",
    "img_name = names_t[fid]\n",
    "joints_2d = au_res_2d[fid].copy()\n",
    "joints_3d = au_res_3d[fid].copy()\n",
    "rp = ref_pt_t[fid].copy().reshape(1, 3)\n",
    "\n",
    "# depth image\n",
    "img = msra_data.load_depthmap(img_name)\n",
    "img = better_visulaization_depth_image(img)\n",
    "\n",
    "# 3d cloud\n",
    "depth_cloud = msra_data.depthmap2cloud(img).reshape(-1, 3)\n",
    "\n",
    "print('depth_img_name: ', img_name)\n",
    "print('img.shape: {}'.format(img.shape))\n",
    "\n",
    "# Show\n",
    "#show_cloud_keypoints(depth_cloud, joints_3d)\n",
    "show_cloud_keypoints_better(depth_cloud, joints_3d)\n",
    "\n",
    "show_landmarks(img, joints_2d)"
   ]
  },
  {
   "cell_type": "code",
   "execution_count": null,
   "metadata": {},
   "outputs": [],
   "source": []
  }
 ],
 "metadata": {
  "kernelspec": {
   "display_name": "Python 3",
   "language": "python",
   "name": "python3"
  },
  "language_info": {
   "codemirror_mode": {
    "name": "ipython",
    "version": 3
   },
   "file_extension": ".py",
   "mimetype": "text/x-python",
   "name": "python",
   "nbconvert_exporter": "python",
   "pygments_lexer": "ipython3",
   "version": "3.6.6"
  }
 },
 "nbformat": 4,
 "nbformat_minor": 2
}
