{
 "cells": [
  {
   "cell_type": "code",
   "execution_count": 1,
   "metadata": {},
   "outputs": [],
   "source": [
    "import open3d as o3\n",
    "import numpy as np\n",
    "import os\n",
    "import sys\n",
    "\n",
    "sys.path.append('/home/yalong/yalong/project/KeyPointsEstimation/V2V-PoseNet-pytorch/lib/pyigllib')\n",
    "import pyigl as igl\n",
    "import iglhelpers\n"
   ]
  },
  {
   "cell_type": "markdown",
   "metadata": {},
   "source": [
    "## Draw functions"
   ]
  },
  {
   "cell_type": "code",
   "execution_count": 2,
   "metadata": {},
   "outputs": [],
   "source": [
    "def build_spheres(points, colors, radius=1.0):\n",
    "    points = points.copy()\n",
    "    spheres = []\n",
    "    num = points.shape[0]\n",
    "    for i in range(num):\n",
    "        ms = o3.create_mesh_sphere(radius)\n",
    "        ms.compute_vertex_normals()\n",
    "        ms.paint_uniform_color(colors[i])\n",
    "        transform_vertices = np.asarray(ms.vertices) + points[i] # Bug exist here!!?\n",
    "        ms.vertices = o3.Vector3dVector(transform_vertices)\n",
    "        spheres.append(ms)\n",
    "    return spheres\n",
    "        \n",
    "\n",
    "def buildToothKeypoints13(points):\n",
    "    points = points.copy()\n",
    "    assert(points.shape[0] <= 7)\n",
    "    colors = [[1, 0, 0], [0, 1, 0], [0, 0, 1], [1, 1, 0], [1, 0, 1], [0, 1, 1], [0.5, 0.5, 0.5]]        \n",
    "    geos = build_spheres(points, colors[:points.shape[0]], 0.2)\n",
    "    return geos\n",
    "\n",
    "\n",
    "def show_mesh_keypoints13(mesh, points): \n",
    "    mesh.compute_vertex_normals()\n",
    "    o3.draw_geometries([mesh] + buildToothKeypoints13(points))\n",
    "\n",
    "    #pcd = o3.PointCloud()\n",
    "    #pcd.points = mesh.vertices\n",
    "    #o3.draw_geometries([pcd] + buildToothKeypoints13(points))\n",
    "    \n",
    "def show_mesh_keypoints13_2(vs, fs, points):\n",
    "    mesh = o3.open3d.TriangleMesh()\n",
    "    mesh.vertices = o3.Vector3dVector(vs.copy())\n",
    "    mesh.triangles = o3.Vector3iVector(fs.copy())\n",
    "    mesh.compute_vertex_normals()\n",
    "    o3.draw_geometries([mesh] + buildToothKeypoints13(points))\n",
    "    \n",
    "def show_cloud_keypoints13(cloud, points):\n",
    "    pcd = o3.PointCloud()\n",
    "    pcd.points = o3.Vector3dVector(cloud)\n",
    "    o3.draw_geometries([pcd] + buildToothKeypoints13(points))\n",
    "    \n",
    "    \n",
    "def compare_mesh_keypoints13(vs, fs, points1, points2):\n",
    "    mesh = o3.open3d.TriangleMesh()\n",
    "    mesh.vertices = o3.Vector3dVector(vs.copy())\n",
    "    mesh.triangles = o3.Vector3iVector(fs.copy())\n",
    "    mesh.compute_vertex_normals()\n",
    "    \n",
    "    colors1 = [[1, 0, 0], [0, 1, 0], [0, 0, 1], [1, 1, 0], [1, 0, 1], [0, 1, 1], [0.5, 0.5, 0.5]]        \n",
    "    geos1 = build_spheres(points1, colors1[:points1.shape[0]], 0.2)\n",
    "    colors2 = [[1, 0, 0], [0, 1, 0], [0, 0, 1], [1, 1, 0], [1, 0, 1], [0, 1, 1], [0.5, 0.5, 0.5]]        \n",
    "    #colors2 = [[0, 0, 0], [0, 0, 0], [0, 0, 0], [0, 0, 0], [0, 0, 0], [0, 0, 0], [0.0, 0.0, 0.0]]   \n",
    "    geos2 = build_spheres(points2, colors2[:points2.shape[0]], 0.3)\n",
    "    \n",
    "    o3.draw_geometries([mesh] + geos1 + geos2)\n",
    "\n",
    "def compare_cloud_keypoints13(vs, fs, points1, points2):\n",
    "    mesh = o3.PointCloud()\n",
    "    mesh.points = o3.Vector3dVector(vs)\n",
    "    \n",
    "    colors1 = [[1, 0, 0], [0, 1, 0], [0, 0, 1], [1, 1, 0], [1, 0, 1], [0, 1, 1], [0.5, 0.5, 0.5]]        \n",
    "    geos1 = build_spheres(points1, colors1[:points1.shape[0]], 0.2)\n",
    "    colors2 = [[1, 0, 0], [0, 1, 0], [0, 0, 1], [1, 1, 0], [1, 0, 1], [0, 1, 1], [0.5, 0.5, 0.5]]        \n",
    "    #colors2 = [[0, 0, 0], [0, 0, 0], [0, 0, 0], [0, 0, 0], [0, 0, 0], [0, 0, 0], [0.0, 0.0, 0.0]]   \n",
    "    geos2 = build_spheres(points2, colors2[:points2.shape[0]], 0.3)\n",
    "    \n",
    "    o3.draw_geometries([mesh] + geos1 + geos2)\n"
   ]
  },
  {
   "cell_type": "markdown",
   "metadata": {},
   "source": [
    "## 2. Load train and test dataset"
   ]
  },
  {
   "cell_type": "code",
   "execution_count": 3,
   "metadata": {},
   "outputs": [],
   "source": [
    "def load_names(names_fn):\n",
    "    with open(names_fn) as f:\n",
    "        names = [l.rstrip() for l in f.readlines()]\n",
    "    return names\n",
    "\n",
    "def load_mesh(obj_fn):\n",
    "    V = igl.eigen.MatrixXd()\n",
    "    F = igl.eigen.MatrixXi()\n",
    "    igl.readOBJ(obj_fn, V, F)\n",
    "    return iglhelpers.e2p(V), iglhelpers.e2p(F)\n"
   ]
  },
  {
   "cell_type": "code",
   "execution_count": 4,
   "metadata": {},
   "outputs": [
    {
     "name": "stdout",
     "output_type": "stream",
     "text": [
      "train names:  42\n",
      "test names:  11\n",
      "train samples:  (42, 7, 3)\n",
      "test samples:  (11, 7, 3)\n"
     ]
    }
   ],
   "source": [
    "data_dir = r'/home/yalong/yalong/project/KeyPointsEstimation/V2V-PoseNet-pytorch/experiments/tooth/exp1/split1/'\n",
    "\n",
    "train_names = load_names(os.path.join(data_dir, 'train_names.txt'))\n",
    "train_keypoints = np.loadtxt(os.path.join(data_dir, 'train_keypoints.txt'))\n",
    "train_keypoints = train_keypoints.reshape(train_keypoints.shape[0], -1, 3)\n",
    "train_refpoints = np.loadtxt(os.path.join(data_dir, 'train_refpoints.txt'))\n",
    "\n",
    "test_names = load_names(os.path.join(data_dir, 'test_names.txt'))\n",
    "test_keypoints = np.loadtxt(os.path.join(data_dir, 'test_keypoints.txt'))\n",
    "test_keypoints = test_keypoints.reshape(test_keypoints.shape[0], -1, 3)\n",
    "test_refpoints = np.loadtxt(os.path.join(data_dir, 'test_refpoints.txt'))\n",
    "\n",
    "print('train names: ', len(train_names))\n",
    "print('test names: ', len(test_names))\n",
    "\n",
    "print('train samples: ', train_keypoints.shape)\n",
    "print('test samples: ', test_keypoints.shape)"
   ]
  },
  {
   "cell_type": "code",
   "execution_count": 5,
   "metadata": {},
   "outputs": [
    {
     "name": "stdout",
     "output_type": "stream",
     "text": [
      "0th training sample \n",
      "name: /home/yalong/yalong/project/KeyPointsEstimation/V2V-PoseNet-pytorch/experiments/tooth/dataset1/605.obj\n",
      "vs.shape: (2676, 3)\n",
      "fs.shape: (2676, 3)\n",
      "train_refpoints.shape:  (42, 3)\n",
      "ref_pt.shape:  (3,)\n"
     ]
    }
   ],
   "source": [
    "# Let's show some training samples\n",
    "idx = 0\n",
    "mesh_name = train_names[idx]\n",
    "vs, fs = load_mesh(mesh_name)\n",
    "\n",
    "print('{}th training sample '.format(idx))\n",
    "print('name: {}'.format(mesh_name))\n",
    "\n",
    "print('vs.shape: {}'.format(vs.shape))\n",
    "print('fs.shape: {}'.format(vs.shape))\n",
    "\n",
    "# show 7 keypoints\n",
    "keypoints = train_keypoints[idx]\n",
    "show_mesh_keypoints13_2(vs, fs, keypoints)\n",
    "\n",
    "# show center point\n",
    "print('train_refpoints.shape: ', train_refpoints.shape)\n",
    "ref_pt = train_refpoints[idx]\n",
    "print('ref_pt.shape: ', ref_pt.shape)\n",
    "show_cloud_keypoints13(vs, ref_pt.reshape(-1, 3))"
   ]
  },
  {
   "cell_type": "code",
   "execution_count": 6,
   "metadata": {},
   "outputs": [
    {
     "name": "stdout",
     "output_type": "stream",
     "text": [
      "0th test sample \n",
      "name: /home/yalong/yalong/project/KeyPointsEstimation/V2V-PoseNet-pytorch/experiments/tooth/dataset1/654.obj\n",
      "vs.shape: (2300, 3)\n",
      "fs.shape: (2300, 3)\n",
      "test_refpoints.shape:  (11, 3)\n",
      "ref_pt.shape:  (3,)\n",
      "ref_pt:  [15.1996 10.7677 21.2424]\n"
     ]
    }
   ],
   "source": [
    "# Let's show some test samples\n",
    "idx = 0\n",
    "mesh_name = test_names[idx]\n",
    "vs, fs = load_mesh(mesh_name)\n",
    "\n",
    "print('{}th test sample '.format(idx))\n",
    "print('name: {}'.format(mesh_name))\n",
    "\n",
    "print('vs.shape: {}'.format(vs.shape))\n",
    "print('fs.shape: {}'.format(vs.shape))\n",
    "\n",
    "# show 7 keypoints\n",
    "keypoints = test_keypoints[idx]\n",
    "show_mesh_keypoints13_2(vs, fs, keypoints)\n",
    "\n",
    "# show center point\n",
    "print('test_refpoints.shape: ', test_refpoints.shape)\n",
    "ref_pt = test_refpoints[idx]\n",
    "print('ref_pt.shape: ', ref_pt.shape)\n",
    "\n",
    "print('ref_pt: ', ref_pt)\n",
    "\n",
    "show_cloud_keypoints13(vs, ref_pt.reshape(-1, 3))"
   ]
  },
  {
   "cell_type": "markdown",
   "metadata": {},
   "source": [
    "## 3. Train and test on keypoints subset"
   ]
  },
  {
   "cell_type": "markdown",
   "metadata": {},
   "source": [
    "### 3.1 Define keypoints subset\n",
    "Select some types of keypoints to train and test"
   ]
  },
  {
   "cell_type": "code",
   "execution_count": 7,
   "metadata": {},
   "outputs": [
    {
     "name": "stdout",
     "output_type": "stream",
     "text": [
      "sub train keypoints:  (42, 7, 3)\n",
      "sub test keypoints:  (11, 7, 3)\n"
     ]
    }
   ],
   "source": [
    "# tooth 13 keypoints: \n",
    "# 1.occc, 2.glp, 3.gbp\n",
    "# 4.occm, 5.occd\n",
    "# 6.mrm,  7. mrd\n",
    "\n",
    "\n",
    "# Active keypoints indices\n",
    "# These keypoints will be trained and tested\n",
    "#aki = [0, 5, 6]  # occc, mrm, mrd\n",
    "aki = [0, 1, 2, 3, 4, 5, 6]  # all keypoints\n",
    "\n",
    "sub_train_keypoints = train_keypoints[:,aki,:]\n",
    "sub_test_keypoints = test_keypoints[:,aki,:]\n",
    "\n",
    "print('sub train keypoints: ', sub_train_keypoints.shape)\n",
    "print('sub test keypoints: ', sub_test_keypoints.shape)"
   ]
  },
  {
   "cell_type": "markdown",
   "metadata": {},
   "source": [
    "### 3.2 Load testing result"
   ]
  },
  {
   "cell_type": "code",
   "execution_count": 8,
   "metadata": {},
   "outputs": [
    {
     "name": "stdout",
     "output_type": "stream",
     "text": [
      "test result shape:  (11, 7, 3)\n"
     ]
    }
   ],
   "source": [
    "# load fitting and testing result\n",
    "test_res = np.loadtxt('./test_res.txt')\n",
    "test_res = test_res.reshape(test_res.shape[0], -1, 3)\n",
    "\n",
    "print('test result shape: ', test_res.shape)\n",
    "assert(test_res.shape == sub_test_keypoints.shape)"
   ]
  },
  {
   "cell_type": "code",
   "execution_count": 9,
   "metadata": {},
   "outputs": [
    {
     "name": "stdout",
     "output_type": "stream",
     "text": [
      "keypoints:  [[16.6314  7.745  22.9924]\n",
      " [11.5405 12.1995 18.2197]\n",
      " [16.3132 16.3359 22.0379]\n",
      " [15.0405  9.3359 24.2651]\n",
      " [17.586   8.3813 20.7651]\n",
      " [13.4496  9.9722 22.9924]\n",
      " [16.3132  9.6541 18.856 ]]\n",
      "refpoint:  [15.1996 10.7677 21.2424]\n"
     ]
    },
    {
     "data": {
      "text/plain": [
       "array([[ 1.4318, -3.0227,  1.75  ],\n",
       "       [-3.6591,  1.4318, -3.0227],\n",
       "       [ 1.1136,  5.5682,  0.7955],\n",
       "       [-0.1591, -1.4318,  3.0227],\n",
       "       [ 2.3864, -2.3864, -0.4773],\n",
       "       [-1.75  , -0.7955,  1.75  ],\n",
       "       [ 1.1136, -1.1136, -2.3864]])"
      ]
     },
     "execution_count": 9,
     "metadata": {},
     "output_type": "execute_result"
    }
   ],
   "source": [
    "idx = 0\n",
    "\n",
    "\n",
    "keypoints = test_res[idx]\n",
    "print('keypoints: ', keypoints)\n",
    "\n",
    "\n",
    "refpoint = test_refpoints[idx]\n",
    "print('refpoint: ', refpoint)\n",
    "\n",
    "\n",
    "center = test_res[idx] - refpoint\n",
    "center\n",
    "\n"
   ]
  },
  {
   "cell_type": "code",
   "execution_count": 10,
   "metadata": {},
   "outputs": [
    {
     "data": {
      "text/plain": [
       "array([[-0.1591, -1.4318,  3.0227],\n",
       "       [-2.0682,  1.4318,  2.3864],\n",
       "       [-2.0682, -1.1136,  2.0682],\n",
       "       [-1.1136, -1.4318,  2.7045],\n",
       "       [-0.7955, -1.4318,  2.7045],\n",
       "       [-0.1591, -1.75  ,  2.7045],\n",
       "       [-1.1136, -1.4318,  3.3409],\n",
       "       [ 0.4773, -2.0682,  2.7045],\n",
       "       [-0.1591, -1.4318,  3.3409],\n",
       "       [-1.1136, -1.4318,  3.3409],\n",
       "       [-1.1136, -1.75  ,  2.7045]])"
      ]
     },
     "execution_count": 10,
     "metadata": {},
     "output_type": "execute_result"
    }
   ],
   "source": [
    "kp_id = 3\n",
    "\n",
    "refpoints = test_refpoints\n",
    "center = test_res[:,kp_id,:] - refpoints\n",
    "center"
   ]
  },
  {
   "cell_type": "code",
   "execution_count": 11,
   "metadata": {},
   "outputs": [
    {
     "name": "stdout",
     "output_type": "stream",
     "text": [
      "current idx:  0\n",
      "name:  /home/yalong/yalong/project/KeyPointsEstimation/V2V-PoseNet-pytorch/experiments/tooth/dataset1/654.obj\n",
      "current idx:  1\n",
      "name:  /home/yalong/yalong/project/KeyPointsEstimation/V2V-PoseNet-pytorch/experiments/tooth/dataset1/655.obj\n",
      "current idx:  2\n",
      "name:  /home/yalong/yalong/project/KeyPointsEstimation/V2V-PoseNet-pytorch/experiments/tooth/dataset1/656.obj\n",
      "current idx:  3\n",
      "name:  /home/yalong/yalong/project/KeyPointsEstimation/V2V-PoseNet-pytorch/experiments/tooth/dataset1/657.obj\n",
      "current idx:  4\n",
      "name:  /home/yalong/yalong/project/KeyPointsEstimation/V2V-PoseNet-pytorch/experiments/tooth/dataset1/658.obj\n",
      "current idx:  5\n",
      "name:  /home/yalong/yalong/project/KeyPointsEstimation/V2V-PoseNet-pytorch/experiments/tooth/dataset1/659.obj\n",
      "current idx:  6\n",
      "name:  /home/yalong/yalong/project/KeyPointsEstimation/V2V-PoseNet-pytorch/experiments/tooth/dataset1/660.obj\n",
      "current idx:  7\n",
      "name:  /home/yalong/yalong/project/KeyPointsEstimation/V2V-PoseNet-pytorch/experiments/tooth/dataset1/661.obj\n",
      "current idx:  8\n",
      "name:  /home/yalong/yalong/project/KeyPointsEstimation/V2V-PoseNet-pytorch/experiments/tooth/dataset1/663.obj\n",
      "current idx:  9\n",
      "name:  /home/yalong/yalong/project/KeyPointsEstimation/V2V-PoseNet-pytorch/experiments/tooth/dataset1/665.obj\n",
      "current idx:  10\n",
      "name:  /home/yalong/yalong/project/KeyPointsEstimation/V2V-PoseNet-pytorch/experiments/tooth/dataset1/667.obj\n"
     ]
    }
   ],
   "source": [
    "# compare test result with ground truth\n",
    "\n",
    "def compare_test_gt(idx):\n",
    "    assert(idx < test_res.shape[0])\n",
    "    mesh_name = test_names[idx]\n",
    "    vs, fs = load_mesh(mesh_name)\n",
    "    gt = sub_test_keypoints[idx]\n",
    "    est = test_res[idx]\n",
    "    #print('keypoints diff: {}'.format(est - gt))\n",
    "    #compare_cloud_keypoints13(vs, fs, gt, est)\n",
    "    compare_mesh_keypoints13(vs, fs, gt, est)\n",
    "    \n",
    "#indices = np.arange(10)\n",
    "#indices = (np.random.rand(10) * test_res.shape[0]).astype(np.int32)\n",
    "#indices = [0 + 12*i for i in range(4)]\n",
    "indices = np.arange(test_res.shape[0])\n",
    "\n",
    "for idx in indices:\n",
    "    print('current idx: ', idx)\n",
    "    print('name: ', test_names[idx])\n",
    "    compare_test_gt(idx)"
   ]
  },
  {
   "cell_type": "code",
   "execution_count": 28,
   "metadata": {},
   "outputs": [
    {
     "data": {
      "text/plain": [
       "array([0.3593185 , 0.30079546, 0.35850936])"
      ]
     },
     "execution_count": 28,
     "metadata": {},
     "output_type": "execute_result"
    }
   ],
   "source": [
    "np.random.rand(3)"
   ]
  },
  {
   "cell_type": "code",
   "execution_count": null,
   "metadata": {},
   "outputs": [],
   "source": []
  },
  {
   "cell_type": "markdown",
   "metadata": {},
   "source": [
    "### 3.2 Load fitting and testing result"
   ]
  },
  {
   "cell_type": "code",
   "execution_count": 29,
   "metadata": {},
   "outputs": [
    {
     "name": "stdout",
     "output_type": "stream",
     "text": [
      "fit result shape:  (42, 7, 3)\n"
     ]
    }
   ],
   "source": [
    "# load fitting and testing result\n",
    "fit_res = np.loadtxt('./fit_res.txt')\n",
    "fit_res = fit_res.reshape(fit_res.shape[0], -1, 3)\n",
    "\n",
    "print('fit result shape: ', fit_res.shape)\n",
    "assert(fit_res.shape == sub_train_keypoints.shape)\n"
   ]
  },
  {
   "cell_type": "markdown",
   "metadata": {},
   "source": [
    "### 3.3 Compare fitting result with ground truth\n",
    "- ground_truth: draw with smaller points\n",
    "- estimated: draw with bigger points"
   ]
  },
  {
   "cell_type": "code",
   "execution_count": 30,
   "metadata": {},
   "outputs": [
    {
     "name": "stdout",
     "output_type": "stream",
     "text": [
      "current idx:  0\n",
      "current idx:  1\n",
      "current idx:  2\n",
      "current idx:  3\n"
     ]
    },
    {
     "ename": "KeyboardInterrupt",
     "evalue": "",
     "output_type": "error",
     "traceback": [
      "\u001b[0;31m---------------------------------------------------------------------------\u001b[0m",
      "\u001b[0;31mKeyboardInterrupt\u001b[0m                         Traceback (most recent call last)",
      "\u001b[0;32m<ipython-input-30-4348b85d601c>\u001b[0m in \u001b[0;36m<module>\u001b[0;34m()\u001b[0m\n\u001b[1;32m     16\u001b[0m \u001b[0;32mfor\u001b[0m \u001b[0midx\u001b[0m \u001b[0;32min\u001b[0m \u001b[0mindices\u001b[0m\u001b[0;34m:\u001b[0m\u001b[0;34m\u001b[0m\u001b[0m\n\u001b[1;32m     17\u001b[0m     \u001b[0mprint\u001b[0m\u001b[0;34m(\u001b[0m\u001b[0;34m'current idx: '\u001b[0m\u001b[0;34m,\u001b[0m \u001b[0midx\u001b[0m\u001b[0;34m)\u001b[0m\u001b[0;34m\u001b[0m\u001b[0m\n\u001b[0;32m---> 18\u001b[0;31m     \u001b[0mcompare_fit_gt\u001b[0m\u001b[0;34m(\u001b[0m\u001b[0midx\u001b[0m\u001b[0;34m)\u001b[0m\u001b[0;34m\u001b[0m\u001b[0m\n\u001b[0m",
      "\u001b[0;32m<ipython-input-30-4348b85d601c>\u001b[0m in \u001b[0;36mcompare_fit_gt\u001b[0;34m(idx)\u001b[0m\n\u001b[1;32m     10\u001b[0m     \u001b[0;31m#print('current mesh name: ', mesh_name)\u001b[0m\u001b[0;34m\u001b[0m\u001b[0;34m\u001b[0m\u001b[0m\n\u001b[1;32m     11\u001b[0m     \u001b[0;31m#print('keypoints diff: {}'.format(est - gt))\u001b[0m\u001b[0;34m\u001b[0m\u001b[0;34m\u001b[0m\u001b[0m\n\u001b[0;32m---> 12\u001b[0;31m     \u001b[0mcompare_mesh_keypoints13\u001b[0m\u001b[0;34m(\u001b[0m\u001b[0mvs\u001b[0m\u001b[0;34m,\u001b[0m \u001b[0mfs\u001b[0m\u001b[0;34m,\u001b[0m \u001b[0mgt\u001b[0m\u001b[0;34m,\u001b[0m \u001b[0mest\u001b[0m\u001b[0;34m)\u001b[0m\u001b[0;34m\u001b[0m\u001b[0m\n\u001b[0m\u001b[1;32m     13\u001b[0m \u001b[0;34m\u001b[0m\u001b[0m\n\u001b[1;32m     14\u001b[0m \u001b[0;34m\u001b[0m\u001b[0m\n",
      "\u001b[0;32m<ipython-input-2-5dd0891f20f6>\u001b[0m in \u001b[0;36mcompare_mesh_keypoints13\u001b[0;34m(vs, fs, points1, points2)\u001b[0m\n\u001b[1;32m     54\u001b[0m     \u001b[0mgeos2\u001b[0m \u001b[0;34m=\u001b[0m \u001b[0mbuild_spheres\u001b[0m\u001b[0;34m(\u001b[0m\u001b[0mpoints2\u001b[0m\u001b[0;34m,\u001b[0m \u001b[0mcolors2\u001b[0m\u001b[0;34m[\u001b[0m\u001b[0;34m:\u001b[0m\u001b[0mpoints2\u001b[0m\u001b[0;34m.\u001b[0m\u001b[0mshape\u001b[0m\u001b[0;34m[\u001b[0m\u001b[0;36m0\u001b[0m\u001b[0;34m]\u001b[0m\u001b[0;34m]\u001b[0m\u001b[0;34m,\u001b[0m \u001b[0;36m0.3\u001b[0m\u001b[0;34m)\u001b[0m\u001b[0;34m\u001b[0m\u001b[0m\n\u001b[1;32m     55\u001b[0m \u001b[0;34m\u001b[0m\u001b[0m\n\u001b[0;32m---> 56\u001b[0;31m     \u001b[0mo3\u001b[0m\u001b[0;34m.\u001b[0m\u001b[0mdraw_geometries\u001b[0m\u001b[0;34m(\u001b[0m\u001b[0;34m[\u001b[0m\u001b[0mmesh\u001b[0m\u001b[0;34m]\u001b[0m \u001b[0;34m+\u001b[0m \u001b[0mgeos1\u001b[0m \u001b[0;34m+\u001b[0m \u001b[0mgeos2\u001b[0m\u001b[0;34m)\u001b[0m\u001b[0;34m\u001b[0m\u001b[0m\n\u001b[0m\u001b[1;32m     57\u001b[0m \u001b[0;34m\u001b[0m\u001b[0m\n\u001b[1;32m     58\u001b[0m \u001b[0;32mdef\u001b[0m \u001b[0mcompare_cloud_keypoints13\u001b[0m\u001b[0;34m(\u001b[0m\u001b[0mvs\u001b[0m\u001b[0;34m,\u001b[0m \u001b[0mfs\u001b[0m\u001b[0;34m,\u001b[0m \u001b[0mpoints1\u001b[0m\u001b[0;34m,\u001b[0m \u001b[0mpoints2\u001b[0m\u001b[0;34m)\u001b[0m\u001b[0;34m:\u001b[0m\u001b[0;34m\u001b[0m\u001b[0m\n",
      "\u001b[0;31mKeyboardInterrupt\u001b[0m: "
     ]
    }
   ],
   "source": [
    "def compare_fit_gt(idx):\n",
    "    assert(idx < fit_res.shape[0])\n",
    "\n",
    "    mesh_name = train_names[idx]\n",
    "    vs, fs = load_mesh(mesh_name)\n",
    "\n",
    "    gt = sub_train_keypoints[idx]\n",
    "    est = fit_res[idx]\n",
    "    \n",
    "    #print('current mesh name: ', mesh_name)\n",
    "    #print('keypoints diff: {}'.format(est - gt))\n",
    "    compare_mesh_keypoints13(vs, fs, gt, est)\n",
    "\n",
    "\n",
    "indices = np.arange(fit_res.shape[0])\n",
    "for idx in indices:\n",
    "    print('current idx: ', idx)\n",
    "    compare_fit_gt(idx)"
   ]
  },
  {
   "cell_type": "markdown",
   "metadata": {},
   "source": [
    "### 3.4 Compare test result with ground truth"
   ]
  },
  {
   "cell_type": "code",
   "execution_count": 27,
   "metadata": {},
   "outputs": [
    {
     "name": "stdout",
     "output_type": "stream",
     "text": [
      "ratio:  0.006152294047235918\n",
      "#select:  1987\n"
     ]
    }
   ],
   "source": [
    "ratio = np.random.rand() * 0.2\n",
    "print('ratio: ', ratio)\n",
    "select = np.random.rand(2000)\n",
    "select = select > ratio\n",
    "print('#select: ', select.sum())"
   ]
  },
  {
   "cell_type": "code",
   "execution_count": 19,
   "metadata": {},
   "outputs": [
    {
     "data": {
      "text/plain": [
       "array([ True,  True,  True,  True,  True])"
      ]
     },
     "execution_count": 19,
     "metadata": {},
     "output_type": "execute_result"
    }
   ],
   "source": [
    "select"
   ]
  },
  {
   "cell_type": "code",
   "execution_count": null,
   "metadata": {},
   "outputs": [],
   "source": []
  }
 ],
 "metadata": {
  "kernelspec": {
   "display_name": "Python 3",
   "language": "python",
   "name": "python3"
  },
  "language_info": {
   "codemirror_mode": {
    "name": "ipython",
    "version": 3
   },
   "file_extension": ".py",
   "mimetype": "text/x-python",
   "name": "python",
   "nbconvert_exporter": "python",
   "pygments_lexer": "ipython3",
   "version": "3.6.4"
  }
 },
 "nbformat": 4,
 "nbformat_minor": 2
}
